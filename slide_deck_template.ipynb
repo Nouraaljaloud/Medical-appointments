{
 "cells": [
  {
   "cell_type": "markdown",
   "metadata": {
    "slideshow": {
     "slide_type": "slide"
    }
   },
   "source": [
    "# (Medical Appointments)\n",
    "## by (Noura Aljaloud )"
   ]
  },
  {
   "cell_type": "markdown",
   "metadata": {
    "slideshow": {
     "slide_type": "slide"
    }
   },
   "source": [
    "## Investigation Overview\n",
    "\n",
    ">\n",
    "I choose this data base because easy to understand and must cleanet database some Q : Q1: message affects the Patient if come or not? Q2: number of male and female in Scholarship? Q3: how many Female ara compared to male ?\n",
    "\n",
    "## Dataset Overview\n",
    "\n",
    "> This dataset collects information from 100k medical appointments in Brazil and is focused on the question of whether or not patients show up for their appointment. A number of characteristics about the patient are included in each row. ‘ScheduledDay’ tells us on what day the patient set up their appointment. ‘Neighborhood’ indicates the location of the hospital. ‘Scholarship’ indicates whether or not the patient is enrolled in Brasilian welfare program Bolsa Família. Be careful about the encoding of the last column: it says ‘No’ if the patient showed up to their appointment, and ‘Yes’ if they did not show up."
   ]
  },
  {
   "cell_type": "code",
   "execution_count": 1,
   "metadata": {
    "slideshow": {
     "slide_type": "skip"
    }
   },
   "outputs": [],
   "source": [
    "# import all packages and set plots to be embedded inline\n",
    "import numpy as np\n",
    "import pandas as pd\n",
    "import matplotlib.pyplot as plt\n",
    "import seaborn as sns\n",
    "\n",
    "%matplotlib inline\n",
    "\n",
    "# suppress warnings from final output\n",
    "import warnings\n",
    "warnings.simplefilter(\"ignore\")"
   ]
  },
  {
   "cell_type": "code",
   "execution_count": 2,
   "metadata": {
    "slideshow": {
     "slide_type": "skip"
    }
   },
   "outputs": [],
   "source": [
    "# load in the dataset into a pandas dataframe\n",
    "df = pd.read_csv('noshowappointments.csv')\n",
    "\n"
   ]
  },
  {
   "cell_type": "markdown",
   "metadata": {
    "slideshow": {
     "slide_type": "notes"
    }
   },
   "source": [
    "> Note that the above cells have been set as \"Skip\"-type slides. That means\n",
    "that when the notebook is rendered as http slides, those cells won't show up."
   ]
  },
  {
   "cell_type": "markdown",
   "metadata": {
    "slideshow": {
     "slide_type": "slide"
    }
   },
   "source": [
    "## (Visualization 1)\n",
    "I start with Patient, must Patient received message is come and must Patient dosen't received message is come \n",
    "\n",
    "\n",
    "\n",
    "> Write a comment about your visualization here. The visualization should be in\n",
    "the next cell, as a sub-slide type. Make sure your visualizations are polished!"
   ]
  },
  {
   "cell_type": "code",
   "execution_count": 3,
   "metadata": {
    "slideshow": {
     "slide_type": "subslide"
    }
   },
   "outputs": [
    {
     "name": "stdout",
     "output_type": "stream",
     "text": [
      "25698\n",
      "9784\n"
     ]
    },
    {
     "data": {
      "text/plain": [
       "Text(0, 0.5, ' Patient')"
      ]
     },
     "execution_count": 3,
     "metadata": {},
     "output_type": "execute_result"
    },
    {
     "data": {
      "image/png": "[encoded data removed]",
      "text/plain": [
       "<Figure size 432x288 with 1 Axes>"
      ]
     },
     "metadata": {
      "needs_background": "light"
     },
     "output_type": "display_data"
    }
   ],
   "source": [
    "# for all Patient are come \n",
    "# for Patient received message if show or not  \n",
    "# for Patient received message who's show or not  \n",
    "dfT = df[df['No-show'] == 'No'] # come \n",
    "dfF = df[df['No-show'] == 'Yes']# not come\n",
    "show1 = sum(dfT.SMS_received == 1)\n",
    "notshow1 = sum(dfF.SMS_received == 1)\n",
    "print (show1)\n",
    "print(notshow1)\n",
    "plt.bar([1, 2], [show1, notshow1],tick_label=['Come', 'did not come'])\n",
    "plt.title('Patient received message')\n",
    "plt.xlabel('see in Appointment')\n",
    "plt.ylabel(' Patient')"
   ]
  },
  {
   "cell_type": "code",
   "execution_count": 4,
   "metadata": {},
   "outputs": [
    {
     "name": "stdout",
     "output_type": "stream",
     "text": [
      "62510\n",
      "12535\n"
     ]
    },
    {
     "data": {
      "text/plain": [
       "Text(0, 0.5, ' Patient')"
      ]
     },
     "execution_count": 4,
     "metadata": {},
     "output_type": "execute_result"
    },
    {
     "data": {
      "image/png": "[encoded data removed]",
      "text/plain": [
       "<Figure size 432x288 with 1 Axes>"
      ]
     },
     "metadata": {
      "needs_background": "light"
     },
     "output_type": "display_data"
    }
   ],
   "source": [
    "# for Patient dosen't received message if show or not  \n",
    "# for Patient dosen't received message who's show or not  \n",
    "show2 = sum(dfT.SMS_received == 0)\n",
    "notshow2 = sum(dfF.SMS_received == 0)\n",
    "print (show2)\n",
    "print(notshow2)\n",
    "plt.bar([1, 2], [show2, notshow2],tick_label=['Come', 'did not come'])\n",
    "plt.title('Patient dose not received message')\n",
    "plt.xlabel('see in Appointment')\n",
    "plt.ylabel(' Patient')"
   ]
  },
  {
   "cell_type": "markdown",
   "metadata": {
    "collapsed": true,
    "slideshow": {
     "slide_type": "slide"
    }
   },
   "source": [
    "## (Visualization 2)\n",
    "\n",
    "\n",
    " Find out the relationship of the 4 kinds of disease and show up\n",
    "The kind of diseases has important impact on show up, with hypertension as the highest ratio at around 20%.\n"
   ]
  },
  {
   "cell_type": "code",
   "execution_count": 5,
   "metadata": {
    "slideshow": {
     "slide_type": "subslide"
    }
   },
   "outputs": [
    {
     "data": {
      "image/png": "[encoded data removed]",
      "text/plain": [
       "<Figure size 720x432 with 1 Axes>"
      ]
     },
     "metadata": {
      "needs_background": "light"
     },
     "output_type": "display_data"
    }
   ],
   "source": [
    "\n",
    "diab = df['Diabetes'].sum()/df['Diabetes'].count()\n",
    "hype = df['Hipertension'].sum()/df['Hipertension'].count()\n",
    "alco = df['Alcoholism'].sum()/df['Alcoholism'].count()\n",
    "hand  = df['Handcap'].sum()/df['Handcap'].count()\n",
    "\n",
    "\n",
    "x = ['diabetes', 'hypertension','Alcoholism','Handcap']\n",
    "y =[diab, hype, alco, hand]\n",
    "\n",
    "plt.subplots(figsize=(10,6))\n",
    "sns.barplot(x,y, alpha = 0.8);"
   ]
  },
  {
   "cell_type": "markdown",
   "metadata": {
    "slideshow": {
     "slide_type": "slide"
    }
   },
   "source": [
    "## (Visualization 3)\n",
    " Seperate male and famele group by query function\n",
    " Calculate the ratio of each disease and plot\n"
   ]
  },
  {
   "cell_type": "code",
   "execution_count": 6,
   "metadata": {
    "slideshow": {
     "slide_type": "subslide"
    }
   },
   "outputs": [],
   "source": [
    "man = df.query('Gender == \"M\"')\n",
    "woman = df.query('Gender == \"F\"')\n",
    "\n",
    "dia_man = man['Diabetes'].sum()/df['Diabetes'].count()\n",
    "dia_woman = woman['Diabetes'].sum()/df['Diabetes'].count()\n",
    "\n",
    "hype_man = man['Hipertension'].sum()/df['Hipertension'].count()\n",
    "hype_woman = woman['Hipertension'].sum()/df['Hipertension'].count()\n",
    "\n",
    "alco_man = man['Alcoholism'].sum()/df['Alcoholism'].count()\n",
    "alco_woman = woman['Alcoholism'].sum()/df['Alcoholism'].count()\n",
    "\n",
    "hand_man = man['Handcap'].sum()/df['Handcap'].count()\n",
    "hand_woman = man['Handcap'].sum()/df['Handcap'].count()\n",
    "\n"
   ]
  },
  {
   "cell_type": "code",
   "execution_count": 7,
   "metadata": {},
   "outputs": [
    {
     "data": {
      "image/png": "[encoded data removed]",
      "text/plain": [
       "<Figure size 720x432 with 1 Axes>"
      ]
     },
     "metadata": {
      "needs_background": "light"
     },
     "output_type": "display_data"
    }
   ],
   "source": [
    "x2 = [dia_man, hype_man, alco_man, hand_man]\n",
    "y2 = [dia_woman, hype_woman, alco_woman, hand_woman]\n",
    "\n",
    "ind = np.arange(len(x2))\n",
    "width = 0.35\n",
    "\n",
    "plt.figure(figsize=(10,6))\n",
    "man_chart = plt.bar(ind, x2, width, color='Pink', alpha=.7, label='Man')\n",
    "woman_chart = plt.bar(ind + width, y2, width, color='Blue', alpha=.7, label='Woman')\n",
    "\n",
    "# title and labels\n",
    "plt.ylabel('Ratio')\n",
    "plt.xlabel('Diseases')\n",
    "plt.title('Ratio of patients by man and woman')\n",
    "locations = ind + width / 2  # xtick locations\n",
    "labels = ['diabetes', 'hypertension', 'alcoholism_man', 'handicap_man']  # xtick labels\n",
    "plt.xticks(locations, labels)\n",
    "#plt.subplots(figsize=(20, 10))\n",
    "#plt.xticks(rotation=90);\n",
    "\n",
    "# legend\n",
    "plt.legend();\n",
    "plt.show()"
   ]
  },
  {
   "cell_type": "markdown",
   "metadata": {
    "slideshow": {
     "slide_type": "notes"
    }
   },
   "source": [
    "> Once you're ready to finish your presentation, check your output by using\n",
    "nbconvert to export the notebook and set up a server for the slides. From the\n",
    "terminal or command line, use the following expression:\n",
    "> > `jupyter nbconvert <file_name>.ipynb --to slides --post serve --template output_toggle`\n",
    "\n",
    "> This should open a tab in your web browser where you can scroll through your\n",
    "presentation. Sub-slides can be accessed by pressing 'down' when viewing its parent\n",
    "slide. Make sure you remove all of the quote-formatted guide notes like this one\n",
    "before you finish your presentation!"
   ]
  },
  {
   "cell_type": "code",
   "execution_count": 9,
   "metadata": {},
   "outputs": [
    {
     "ename": "SyntaxError",
     "evalue": "invalid syntax (<ipython-input-9-1b87946a0e73>, line 1)",
     "output_type": "error",
     "traceback": [
      "\u001b[0;36m  File \u001b[0;32m\"<ipython-input-9-1b87946a0e73>\"\u001b[0;36m, line \u001b[0;32m1\u001b[0m\n\u001b[0;31m    jupyter nbconvert <Investigate_a_Dataset>.ipynb --to slides --post serve --template output_toggle\u001b[0m\n\u001b[0m                    ^\u001b[0m\n\u001b[0;31mSyntaxError\u001b[0m\u001b[0;31m:\u001b[0m invalid syntax\n"
     ]
    }
   ],
   "source": []
  },
  {
   "cell_type": "code",
   "execution_count": null,
   "metadata": {},
   "outputs": [],
   "source": []
  },
  {
   "cell_type": "code",
   "execution_count": null,
   "metadata": {},
   "outputs": [],
   "source": []
  },
  {
   "cell_type": "code",
   "execution_count": null,
   "metadata": {},
   "outputs": [],
   "source": []
  },
  {
   "cell_type": "code",
   "execution_count": null,
   "metadata": {},
   "outputs": [],
   "source": []
  }
 ],
 "metadata": {
  "celltoolbar": "Slideshow",
  "kernelspec": {
   "display_name": "Python 3",
   "language": "python",
   "name": "python3"
  },
  "language_info": {
   "codemirror_mode": {
    "name": "ipython",
    "version": 3
   },
   "file_extension": ".py",
   "mimetype": "text/x-python",
   "name": "python",
   "nbconvert_exporter": "python",
   "pygments_lexer": "ipython3",
   "version": "3.7.1"
  }
 },
 "nbformat": 4,
 "nbformat_minor": 2
}
